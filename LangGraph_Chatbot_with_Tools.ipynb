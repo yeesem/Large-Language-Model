{
  "nbformat": 4,
  "nbformat_minor": 0,
  "metadata": {
    "colab": {
      "provenance": [],
      "authorship_tag": "ABX9TyMExDHfFGl0sJq3dYutqXXy"
    },
    "kernelspec": {
      "name": "python3",
      "display_name": "Python 3"
    },
    "language_info": {
      "name": "python"
    }
  },
  "cells": [
    {
      "cell_type": "code",
      "execution_count": null,
      "metadata": {
        "id": "8iSDJfDsSqHH"
      },
      "outputs": [],
      "source": [
        "!pip install langgraph langsmith langchain langchain_groq langchain_community arxiv wikipedia"
      ]
    },
    {
      "cell_type": "code",
      "source": [
        "from typing import Annotated\n",
        "from typing_extensions import TypedDict"
      ],
      "metadata": {
        "id": "dI8kN_zPS8I1"
      },
      "execution_count": 3,
      "outputs": []
    },
    {
      "cell_type": "code",
      "source": [
        "# Working with Tools\n",
        "from langchain_community.utilities import ArxivAPIWrapper, WikipediaAPIWrapper\n",
        "from langchain_community.tools import ArxivQueryRun, WikipediaQueryRun\n",
        "\n",
        "# Arxiv and Wikipedia tools\n",
        "arxiv_wrapper = ArxivAPIWrapper(top_k_results = 1, doc_content_chars = 1000)\n",
        "arxiv_tool = ArxivQueryRun(api_wrapper = arxiv_wrapper)\n",
        "\n",
        "wikipedia_wrapper = WikipediaAPIWrapper(top_k_results = 1, doc_content_chars = 1000)\n",
        "wikipedia_tool = WikipediaQueryRun(api_wrapper = wikipedia_wrapper)"
      ],
      "metadata": {
        "id": "CvDJJTaHT-q6"
      },
      "execution_count": 7,
      "outputs": []
    },
    {
      "cell_type": "code",
      "source": [
        "wikipedia_tool.invoke(\"Who is Anwar Ibrahim\")"
      ],
      "metadata": {
        "colab": {
          "base_uri": "https://localhost:8080/",
          "height": 127
        },
        "id": "6QQSqCAMVxRJ",
        "outputId": "b917522b-5bbc-48eb-9cc1-268a1990150b"
      },
      "execution_count": 9,
      "outputs": [
        {
          "output_type": "execute_result",
          "data": {
            "text/plain": [
              "\"Page: Anwar Ibrahim\\nSummary: Anwar bin Ibrahim (Jawi: انور بن ابراهيم\\u200e, IPA: Malay pronunciation: [anwar ɪbrahɪm] ; born 10 August 1947) is a Malaysian politician who has been the 10th and current Prime Minister of Malaysia since 2022. He served as the 12th and 16th Leader of the Opposition from 2008 to 2015, and again from 2020 to 2022. He has been the chairman of the Pakatan Harapan (PH) coalition since 2020, the second President of the People's Justice Party (PKR) since 2018 and the Member of Parliament (MP) for Tambun since November 2022. He also served as Deputy Prime Minister and in many other Cabinet positions in the Barisan Nasional (BN) administration under former Prime Minister Mahathir Mohamad from 1982 to his removal in 1998.\\nA University of Malaya graduate, Anwar served as president of the National Union of Malaysian Muslim Students as well as Angkatan Belia Islam Malaysia (ABIM) or Muslim Youth Union of Malaysia before joining the United Malays National Organisation (UMNO) then the dominant party in the long-ruling Barisan Nasional (BN) coalition. Anwar held several cabinet positions in successive governments in the 1980s and 1990s. He was the deputy prime minister as well as finance minister during the 1990s and was prominent in Malaysia's response to the 1997 Asian financial crisis. In 1998, he was removed from all posts by prime minister Mahathir Mohamad and went on to spearhead the Reformasi movement against the government. Anwar was jailed in April 1999 on charges of corruption and sodomy until his release in 2004 after his conviction was overturned. He made a comeback as leader of the opposition from 2008 to 2015. He merged opposition parties into the Pakatan Rakyat (PR) coalition, which unsuccessfully contested in the 2008 and 2013 general elections. He disputed the results of the 2013 elections and led a protest in response.\\nIn 2014, Anwar's attempt to become Selangor head of government in the 2014 Kajang Move led to a nine-month political crisis, which ended when he was sentenced to another five years in prison after a second sodomy conviction in 2015. While still in prison, Anwar re-joined Mahathir Mohamad in the new Pakatan Harapan (PH) coalition in absentia, which went on to win the 2018 general election. Mahathir outlined a plan for Anwar to take over from himself as prime minister after an unspecified interim period. Anwar received a royal pardon from Yang di-Pertuan Agong Muhammad V and was released from prison in May 2018. He returned to parliament in the 2018 Port Dickson by-election while his wife Wan Azizah Wan Ismail served as the deputy prime Minister in the PH administration. The collapse of the coalition during the 2020–22 Malaysian political crisis led to the new Perikatan Nasional (PN) coalition under Muhyiddin Yassin being sworn in and Anwar becoming leader of the opposition for the second time in May 2020.\\nAfter leading Pakatan Harapan to win a plurality of seats at the 2022 Malaysian general election, Anwar was sworn in as the tenth Prime Minister of Malaysia on 24 November 2022. On 2 December 2022, Anwar appointed various members of parliament from Pakatan Harapan, Gabungan Parti Sarawak (GPS), and UMNO to serve as ministers in the cabinet of the newly formed unity government. Anwar named himself as the Finance Minister. During his tenure, he and his government faced criticism for implementing numerous conservative policies, as well as the discharge not amounting to acquittal of current Malaysian deputy prime minister Ahmad Zahid Hamidi, who faced corruption charges. Moreover, former Malaysian prime minister Najib Razak also saw his prison sentence halved and fine reduced during Anwar's tenure, sparking further controversy.\\nAnwar, referred to as a liberal reformer and intellectual, has advocated for Islamic democracy and has stated he hopes Malaysia will become an example of democratic practices in the Muslim world. He supports the Islamic concept of Ummah as a framework for democracy\""
            ],
            "application/vnd.google.colaboratory.intrinsic+json": {
              "type": "string"
            }
          },
          "metadata": {},
          "execution_count": 9
        }
      ]
    },
    {
      "cell_type": "code",
      "source": [
        "arxiv_tool.invoke(\"Attention is all you need\")"
      ],
      "metadata": {
        "colab": {
          "base_uri": "https://localhost:8080/",
          "height": 126
        },
        "id": "gmBdhl6zViLD",
        "outputId": "06c961b0-0182-4c8a-bdbe-0521016068ea"
      },
      "execution_count": 10,
      "outputs": [
        {
          "output_type": "execute_result",
          "data": {
            "text/plain": [
              "\"Published: 2024-07-22\\nTitle: Attention Is All You Need But You Don't Need All Of It For Inference of Large Language Models\\nAuthors: Georgy Tyukin, Gbetondji J-S Dovonon, Jean Kaddour, Pasquale Minervini\\nSummary: The inference demand for LLMs has skyrocketed in recent months, and serving\\nmodels with low latencies remains challenging due to the quadratic input length\\ncomplexity of the attention layers. In this work, we investigate the effect of\\ndropping MLP and attention layers at inference time on the performance of\\nLlama-v2 models. We find that dropping dreeper attention layers only marginally\\ndecreases performance but leads to the best speedups alongside dropping entire\\nlayers. For example, removing 33\\\\% of attention layers in a 13B Llama2 model\\nresults in a 1.8\\\\% drop in average performance over the OpenLLM benchmark. We\\nalso observe that skipping layers except the latter layers reduces performances\\nfor more layers skipped, except for skipping the attention layers.\""
            ],
            "application/vnd.google.colaboratory.intrinsic+json": {
              "type": "string"
            }
          },
          "metadata": {},
          "execution_count": 10
        }
      ]
    },
    {
      "cell_type": "code",
      "source": [
        "tools = [wikipedia_tool, arxiv_tool]"
      ],
      "metadata": {
        "id": "cCOBxRntWItQ"
      },
      "execution_count": 11,
      "outputs": []
    },
    {
      "cell_type": "code",
      "source": [
        "from langgraph.graph.message import add_messages\n",
        "# LangGraph application\n",
        "class State(TypedDict):\n",
        "  messages:Annotated[list, add_messages]"
      ],
      "metadata": {
        "id": "zN4yHg40WSsZ"
      },
      "execution_count": 12,
      "outputs": []
    },
    {
      "cell_type": "code",
      "source": [
        "from langgraph.graph import StateGraph, START, END\n",
        "\n",
        "graph_builder = StateGraph(State)"
      ],
      "metadata": {
        "id": "_xLRXyuiWj3A"
      },
      "execution_count": 13,
      "outputs": []
    },
    {
      "cell_type": "code",
      "source": [
        "from google.colab import userdata\n",
        "from langchain_groq import ChatGroq\n",
        "\n",
        "groq_api_key = userdata.get('GROQ_API_KEY')\n",
        "llm = ChatGroq(groq_api_key = groq_api_key, model = \"Gemma2-9b-It\")\n",
        "llm"
      ],
      "metadata": {
        "colab": {
          "base_uri": "https://localhost:8080/"
        },
        "id": "J-nPOLHJW1qy",
        "outputId": "d80cd5b9-6261-4d32-e914-800cf674bc66"
      },
      "execution_count": 17,
      "outputs": [
        {
          "output_type": "execute_result",
          "data": {
            "text/plain": [
              "ChatGroq(client=<groq.resources.chat.completions.Completions object at 0x78a88ce2c070>, async_client=<groq.resources.chat.completions.AsyncCompletions object at 0x78a88ce2ccd0>, model_name='Gemma2-9b-It', model_kwargs={}, groq_api_key=SecretStr('**********'))"
            ]
          },
          "metadata": {},
          "execution_count": 17
        }
      ]
    },
    {
      "cell_type": "code",
      "source": [
        "llm_with_tools = llm.bind_tools(tools=tools)"
      ],
      "metadata": {
        "id": "LgqCHfx1X_g0"
      },
      "execution_count": 19,
      "outputs": []
    },
    {
      "cell_type": "code",
      "source": [
        "def chatbot(state:State):\n",
        "  return {\"messages\" : [llm_with_tools.invoke(state[\"messages\"])]}"
      ],
      "metadata": {
        "id": "ds1kW9M2XhFg"
      },
      "execution_count": 20,
      "outputs": []
    },
    {
      "cell_type": "code",
      "source": [
        "from langgraph.prebuilt import ToolNode, tools_condition\n",
        "\n",
        "# First para \"chatbot\" - node's name\n",
        "graph_builder.add_node(\"chatbot\", chatbot)\n",
        "graph_builder.add_edge(START, \"chatbot\")\n",
        "\n",
        "tool_node = ToolNode(tools=tools)\n",
        "graph_builder.add_node(\"tools\", tool_node)\n",
        "\n",
        "graph_builder.add_conditional_edges(\n",
        "    \"chatbot\",\n",
        "    tools_condition\n",
        ")\n",
        "graph_builder.add_edge(\"tools\", \"chatbot\")\n",
        "\n",
        "graph_builder.add_edge(\"chatbot\", END)"
      ],
      "metadata": {
        "colab": {
          "base_uri": "https://localhost:8080/"
        },
        "id": "zyfhgk0jYcS-",
        "outputId": "53a394fb-17d8-496f-bb97-e31bc0a2605d"
      },
      "execution_count": 21,
      "outputs": [
        {
          "output_type": "execute_result",
          "data": {
            "text/plain": [
              "<langgraph.graph.state.StateGraph at 0x78a88cf8c520>"
            ]
          },
          "metadata": {},
          "execution_count": 21
        }
      ]
    },
    {
      "cell_type": "code",
      "source": [
        "graph = graph_builder.compile()"
      ],
      "metadata": {
        "id": "zXlHzkGogpP3"
      },
      "execution_count": 22,
      "outputs": []
    },
    {
      "cell_type": "code",
      "source": [
        "from IPython.display import Image, display_html\n",
        "try:\n",
        "  display(Image(graph.get_graph().draw_mermaid_png()))\n",
        "except Exception:\n",
        "  pass"
      ],
      "metadata": {
        "colab": {
          "base_uri": "https://localhost:8080/",
          "height": 266
        },
        "id": "j7KAFRWRiT14",
        "outputId": "685a4f24-da9e-466c-d2f1-8826c0a770bf"
      },
      "execution_count": 23,
      "outputs": [
        {
          "output_type": "display_data",
          "data": {
            "image/jpeg": "[encoded data removed]",
            "text/plain": [
              "<IPython.core.display.Image object>"
            ]
          },
          "metadata": {}
        }
      ]
    },
    {
      "cell_type": "code",
      "source": [
        "user_input = \"Hi, there!, my name is Krish\"\n",
        "\n",
        "events = graph.stream(\n",
        "  {\"messages\" : [(\"user\", user_input)]},\n",
        "  stream_mode = \"values\"\n",
        ")\n",
        "\n",
        "for event in events:\n",
        "  event[\"messages\"][-1].pretty_print()"
      ],
      "metadata": {
        "colab": {
          "base_uri": "https://localhost:8080/"
        },
        "id": "DQrbk9G6j8u7",
        "outputId": "3191bf78-fe76-4119-dcf6-87dcd14c9c7c"
      },
      "execution_count": 25,
      "outputs": [
        {
          "output_type": "stream",
          "name": "stdout",
          "text": [
            "================================\u001b[1m Human Message \u001b[0m=================================\n",
            "\n",
            "Hi, there!, my name is Krish\n",
            "==================================\u001b[1m Ai Message \u001b[0m==================================\n",
            "Tool Calls:\n",
            "  wikipedia (call_7934)\n",
            " Call ID: call_7934\n",
            "  Args:\n",
            "    query: Krish\n"
          ]
        },
        {
          "output_type": "stream",
          "name": "stderr",
          "text": [
            "/usr/local/lib/python3.10/dist-packages/wikipedia/wikipedia.py:389: GuessedAtParserWarning: No parser was explicitly specified, so I'm using the best available HTML parser for this system (\"lxml\"). This usually isn't a problem, but if you run this code on another system, or in a different virtual environment, it may use a different parser and behave differently.\n",
            "\n",
            "The code that caused this warning is on line 389 of the file /usr/local/lib/python3.10/dist-packages/wikipedia/wikipedia.py. To get rid of this warning, pass the additional argument 'features=\"lxml\"' to the BeautifulSoup constructor.\n",
            "\n",
            "  lis = BeautifulSoup(html).find_all('li')\n"
          ]
        },
        {
          "output_type": "stream",
          "name": "stdout",
          "text": [
            "=================================\u001b[1m Tool Message \u001b[0m=================================\n",
            "Name: wikipedia\n",
            "\n",
            "No good Wikipedia Search Result was found\n",
            "==================================\u001b[1m Ai Message \u001b[0m==================================\n",
            "\n",
            "That's okay!  Is there anything else I can help you with?\n"
          ]
        }
      ]
    }
  ]
}